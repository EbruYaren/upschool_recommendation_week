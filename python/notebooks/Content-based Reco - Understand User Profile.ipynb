{
 "cells": [
  {
   "cell_type": "markdown",
   "metadata": {},
   "source": [
    "Let's build a recommendation system using the movie **tags** to build user/movie profiles\n",
    "1. We need to build a profile for each movie (simply by using tfidf vectorizer)\n",
    "2. We need to build a profile for each user (average tfidf per movie watched by the user)"
   ]
  },
  {
   "cell_type": "code",
   "execution_count": null,
   "metadata": {},
   "outputs": [],
   "source": [
    "import pandas as pd"
   ]
  },
  {
   "cell_type": "code",
   "execution_count": null,
   "metadata": {},
   "outputs": [],
   "source": [
    "movies = pd.read_csv('../ml-latest-small/movies.csv')\n",
    "tags = pd.read_csv('../ml-latest-small/tags.csv')"
   ]
  },
  {
   "cell_type": "code",
   "execution_count": null,
   "metadata": {},
   "outputs": [],
   "source": [
    "movies"
   ]
  },
  {
   "cell_type": "code",
   "execution_count": null,
   "metadata": {},
   "outputs": [],
   "source": [
    "movie_tags = movies.merge(tags, on=\"movieId\").drop(['title','genres','userId','timestamp'],axis=1).groupby(\"movieId\").apply(lambda x: ' '.join(x.tag)).reset_index()\n",
    "movie_tags.columns = ['movieId','doc']"
   ]
  },
  {
   "cell_type": "code",
   "execution_count": null,
   "metadata": {},
   "outputs": [],
   "source": [
    "tf_idf.transform(movie_tags[movie_tags.movieId==1].doc)"
   ]
  },
  {
   "cell_type": "code",
   "execution_count": null,
   "metadata": {},
   "outputs": [],
   "source": [
    "from sklearn.feature_extraction.text import TfidfVectorizer"
   ]
  },
  {
   "cell_type": "code",
   "execution_count": null,
   "metadata": {},
   "outputs": [],
   "source": [
    "tf_idf = TfidfVectorizer()"
   ]
  },
  {
   "cell_type": "code",
   "execution_count": null,
   "metadata": {},
   "outputs": [],
   "source": [
    "X = tf_idf.fit_transform(movie_tags.doc)\n",
    "X"
   ]
  },
  {
   "cell_type": "code",
   "execution_count": null,
   "metadata": {},
   "outputs": [],
   "source": [
    "ratings = pd.read_csv('../ml-latest-small/ratings.csv')\n",
    "user_movie = ratings[['userId', 'movieId']].merge(movie_tags,on=\"movieId\").drop('doc',axis=1).drop_duplicates(['userId', 'movieId']).sort_values('userId')\n",
    "user_movie"
   ]
  },
  {
   "cell_type": "code",
   "execution_count": null,
   "metadata": {},
   "outputs": [],
   "source": [
    "import numpy as np\n",
    "from tqdm import tqdm\n",
    "user_profile = {}\n",
    "user_movie_count = {}\n",
    "\n",
    "for rec in tqdm(user_movie.itertuples(), total=len(user_movie)):\n",
    "    user_profile[rec.userId] = user_profile.get(rec.userId, np.zeros(1744)) + tf_idf.transform(movie_tags[movie_tags.movieId==rec.movieId].doc)\n",
    "    user_movie_count[rec.userId] = user_movie_count.get(rec.userId, 0) + 1\n",
    "    \n",
    "    "
   ]
  },
  {
   "cell_type": "code",
   "execution_count": null,
   "metadata": {},
   "outputs": [],
   "source": [
    "user_profile_normalize = {}\n",
    "for userId in user_profile:\n",
    "    user_profile_normalize[userId] = (user_profile[userId] / user_movie_count[userId]).A1"
   ]
  },
  {
   "cell_type": "code",
   "execution_count": null,
   "metadata": {},
   "outputs": [],
   "source": [
    "user_profile_normalize[1]"
   ]
  },
  {
   "cell_type": "code",
   "execution_count": null,
   "metadata": {},
   "outputs": [],
   "source": [
    "[tf_idf.get_feature_names()[i] for i in user_profile_normalize[12].argsort()[-10:]]"
   ]
  },
  {
   "cell_type": "code",
   "execution_count": null,
   "metadata": {},
   "outputs": [],
   "source": []
  }
 ],
 "metadata": {
  "kernelspec": {
   "display_name": "Python 3",
   "language": "python",
   "name": "python3"
  },
  "language_info": {
   "codemirror_mode": {
    "name": "ipython",
    "version": 3
   },
   "file_extension": ".py",
   "mimetype": "text/x-python",
   "name": "python",
   "nbconvert_exporter": "python",
   "pygments_lexer": "ipython3",
   "version": "3.7.7"
  }
 },
 "nbformat": 4,
 "nbformat_minor": 4
}
